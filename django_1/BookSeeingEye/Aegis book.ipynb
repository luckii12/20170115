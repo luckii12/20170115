{
 "cells": [
  {
   "cell_type": "code",
   "execution_count": 47,
   "metadata": {},
   "outputs": [],
   "source": [
    "# -*- coding: utf-8 -*-\n",
    "from selenium import webdriver\n",
    "import re\n",
    "import os\n",
    "import random\n",
    "# Python이 실행될 때 DJANGO_SETTINGS_MODULE이라는 환경 변수에 현재 프로젝트의 settings.py파일 경로를 등록합니다.\n",
    "os.environ.setdefault(\"DJANGO_SETTINGS_MODULE\", \"book.settings\")\n",
    "# 이제 장고를 가져와 장고 프로젝트를 사용할 수 있도록 환경을 만듭니다.\n",
    "import django\n",
    "django.setup()\n",
    "from book.models import Book, MetaData\n",
    "from django.utils import timezone\n",
    "\n",
    "'''\n",
    "    크롬 헤들리스 버전으로 사용할 수 있다고 하는데?\n",
    "'''\n",
    "options = webdriver.ChromeOptions()\n",
    "options.add_argument('headless')\n",
    "options.add_argument('window-size=1920x1080')\n",
    "options.add_argument(\"disable-gpu\")\n",
    "options.add_argument(\"user-agent=Mozilla/5.0 (Macintosh; Intel Mac OS X 10_12_6) AppleWebKit/537.36 (KHTML, like Gecko) Chrome/61.0.3163.100 Safari/537.36\")\n",
    "\n",
    "'''\n",
    "    1. 주간 베스트 글을 수집하여 Django ORM으로 DB에 저장.\n",
    "    2. PageNumber에 1, 2, 3...\n",
    "'''\n",
    "max_crawl = 1\n",
    "urlBase = 'http://www.yes24.com/24/category/bestseller?CategoryNumber=001001003&sumgb=06&PageNumber='\n",
    "bookInfo = ['Year', 'Month', 'Day', 'Rank', 'Title',\n",
    "    'ISBN', 'Writer', 'Publisher', 'Cate_A', 'Cate_B',\n",
    "    'Cate_C', 'Cate_D', 'Price', 'Review', 'SellingPoint']\n",
    "\n",
    "def getDriver():\n",
    "    try:\n",
    "        driver = webdriver.Chrome('/Users/canine/DEV/20170114/django_1/BookSeeingEye/book/driver/chromedriver', chrome_options=options)\n",
    "    except:\n",
    "        driver = webdriver.Chrome('/Users/canine/DEV/20170114/django_1/BookSeeingEye/book/driver/chromedriver.exe', chrome_options=options)\n",
    "    return driver\n",
    "\n",
    "def startCrawl(page, driver):\n",
    "    if driver == None:\n",
    "        print('driver is not found')\n",
    "        return -1\n",
    "    elif MetaData.objects.filter(crawl_date__range=(start_date, end_date)).count() >= max_crawl:\n",
    "        print('today crawl is done')\n",
    "        return -2\n",
    "    else:\n",
    "        for pageCount in range(1, page + 1):\n",
    "            pageCrawl(pageCount, driver)\n",
    "\n",
    "def endCrawl(driver):\n",
    "    if driver == None:\n",
    "        print('driver is not found')\n",
    "        return -1\n",
    "    else:\n",
    "        print('크롤러를 종료합니다.')\n",
    "        driver.close()\n",
    "        return 0\n",
    "\n",
    "def ORM_saveBook(book):\n",
    "    '''\n",
    "        book 인스턴스를 받아서 책을 데이터 베이스에 저장함\n",
    "            - ISBN이 있는 책인 경우에는 MetaData만 저장함\n",
    "            - ISBN이 없는 책은 책도 새로 등록함\n",
    "    '''\n",
    "    if book is not None:\n",
    "        try:\n",
    "            temp = Book.objects.get(isbn=int(book['ISBN']))\n",
    "            MetaData.objects.create(\n",
    "                rank=book['Rank'],\n",
    "                reviewCount=book['Review'],\n",
    "                sellingPoint=book['SellingPoint'],\n",
    "                crawl_date=timezone.localtime(),\n",
    "                book=temp\n",
    "            )\n",
    "        except:\n",
    "            MetaData.objects.create(\n",
    "                rank=book['Rank'],\n",
    "                reviewCount=book['Review'],\n",
    "                sellingPoint=book['SellingPoint'],\n",
    "                crawl_date=timezone.localtime(),\n",
    "                book=Book.objects.create(\n",
    "                    title=book['Title'],\n",
    "                    isbn=int(book['ISBN']),\n",
    "                    author=book['Writer'],\n",
    "                    publisher=book['Publisher'],\n",
    "                    price=book['Price'],\n",
    "                    pubDate=book['Year'] + '-' + book['Month'] + '-' + book['Day'],\n",
    "                    category=book['Category'],\n",
    "                )\n",
    "            )\n",
    "\n",
    "def pageCrawl(page, driver):\n",
    "    if(driver == None):\n",
    "        print('driver is not found')\n",
    "        return -1\n",
    "    else:\n",
    "        driver.get(urlBase + str(page))\n",
    "\n",
    "        for i in range(1, 21):\n",
    "            temp = {}\n",
    "\n",
    "            pos = str(1 + (i - 1) * 2)\n",
    "            temp['Rank'] = i + (page - 1) * 20\n",
    "            item = driver.find_element_by_xpath('//*[@id=\"category_layout\"]/tbody/tr[' + pos + ']/td[3]/p[1]/a[1]')\n",
    "            temp['Title'] = item.text\n",
    "            temp['Writer'] = driver.find_element_by_xpath('//*[@id=\"category_layout\"]/tbody/tr[' + pos + ']/td[3]/div/a[1]').text\n",
    "\n",
    "            driver.execute_script(\"arguments[0].click();\", item)\n",
    "\n",
    "            try:\n",
    "                temp['ISBN'] = driver.find_element_by_css_selector('#tblGoodsFairTraderNoti tbody tr:nth-child(3) td').text\n",
    "            except:\n",
    "                temp['ISBN'] = 0\n",
    "\n",
    "            temp['Publisher'] = driver.find_element_by_css_selector('span.gd_pub a').text\n",
    "            temp['Price'] = int(re.sub('[^0-9]', '', driver.find_element_by_xpath('//*[@id=\"yDetailTopWrap\"]/div[2]/div[2]/div[1]/div[1]/table/tbody/tr[1]/td/span/em').text))\n",
    "\n",
    "            try:\n",
    "                temp['Review'] = int(\n",
    "                    driver.find_element_by_css_selector('span.gd_reviewCount em').text)\n",
    "            except:\n",
    "                temp['Review'] = 0\n",
    "\n",
    "            raw_date = driver.find_element_by_css_selector('span.gd_date').text\n",
    "            temp['Year'] = raw_date[0:4]\n",
    "            temp['Month'] = raw_date[6:8]\n",
    "            temp['Day'] = raw_date[10:12]\n",
    "\n",
    "            try:\n",
    "                temp['SellingPoint'] = int(re.sub('[^0-9]', '', driver.find_element_by_css_selector('span.gd_sellNum').text))\n",
    "            except:\n",
    "                temp['SellingPoint'] = 'SP_IS_NONE'\n",
    "\n",
    "            try:       \n",
    "                temp['Category'] = driver.find_element_by_css_selector('.basicListType ul').text.replace(\"\\n\",\"<br/>\")\n",
    "                print(temp['Category'])\n",
    "                    \n",
    "            except:\n",
    "                temp['Category'] = 'None'\n",
    "\n",
    "            print(temp)\n",
    "            ORM_saveBook(temp)\n",
    "            driver.back()\n",
    "\n",
    "'''\n",
    "    날짜 구하기 전용 함수를 모아놓은 곳\n",
    "        - getTodayEdge: 정확하게 오늘의 끝 시간을 계산\n",
    "        - getTodayStart: 오늘의 시작 시간을 계산\n",
    "        ...\n",
    "'''\n",
    "def getTodayEdge():\n",
    "    return getTodayStart() + timezone.timedelta(hours=23, minutes=59, seconds=59)\n",
    "\n",
    "def getTodayStart():\n",
    "    return timezone.localtime() - timezone.timedelta(hours=timezone.localtime().hour, minutes=timezone.localtime().minute, seconds=timezone.localtime().second)\n",
    "\n",
    "def getYesterdayEdge():\n",
    "    return getTodayStart() - timezone.timedelta(seconds=1)\n",
    "\n",
    "def getYesterdayStart():\n",
    "    return getTodayStart() - timezone.timedelta(days=1)\n",
    "\n",
    "def getBookList(start, end):\n",
    "    return MetaData.objects.filter(crawl_date__range=(start, end))\n",
    "\n",
    "'''\n",
    "    어제 오늘의 rank를 비교하여 Model의 rankRiseAndFall 값에 저장한다.\n",
    "\n",
    "    알고리즘?\n",
    "        - 오늘 수집한 책 리스트를 가져온다\n",
    "        - 어제 수집한 책 리스트를 가져온다\n",
    "        - 오늘 수집한 책을 기준으로 1~N위까지...\n",
    "            - isbn이 같으면 순위가 그대로 임\n",
    "            - isbn이 다르면...\n",
    "                - 새로운 책이거나\n",
    "                - 순위가 바뀐 책임\n",
    "'''\n",
    "def setRankRiseAndFall(today_list, yesterday_list):\n",
    "    for item in today_list:\n",
    "        i = 0\n",
    "        if(item.book.isbn == yesterday_list.get(book = item.book).book.isbn):\n",
    "            print(item)\n",
    "            item.rankRiseAndFall = 0\n",
    "            print('setRRF is 0')\n",
    "            item.save()\n",
    "            # print(today_list.count())\n",
    "            # print(today_list[i].rankRiseAndFall)\n",
    "            # print(type(today_list[i].rankRiseAndFall))\n",
    "            # print('  -  ' + str(today_list[i].rank) + ' ' + str(today_list[i]))\n",
    "        else:\n",
    "            try:\n",
    "                yesterday_list.get(book = item.book)\n",
    "                riseandfall = yesterday_list.get(book = item.book).rank - item.rank\n",
    "                item.rankRiseAndFall = str(riseandfall)\n",
    "                print('setRRF is number')\n",
    "                item.save()\n",
    "                # print('  ' + str(riseandfall) + '  ' + str(today_list[i].rank) + str(today_list[i]))\n",
    "            except MetaData.DoesNotExist:\n",
    "                item.rankRiseAndFall = str(item.rank) + ' new!'\n",
    "                print('setRRF is new')\n",
    "                item.save()\n",
    "                # print(' new! ' + str(today_list[i].rank) + ' ' +str(today_list[i]))\n",
    "        \n",
    "        i += 1\n",
    "        # today_list[i].save()\n",
    "        # today_list.filter(rankRiseAndFall)\n",
    "\n",
    "start_date = getTodayStart()\n",
    "end_date = getTodayEdge()"
   ]
  },
  {
   "cell_type": "code",
   "execution_count": 9,
   "metadata": {},
   "outputs": [],
   "source": [
    "temp = getBookList(getTodayStart(), getTodayEdge())"
   ]
  },
  {
   "cell_type": "code",
   "execution_count": 6,
   "metadata": {},
   "outputs": [
    {
     "data": {
      "text/plain": [
       "<QuerySet [<MetaData: 윤성우의 열혈 C 프로그래밍>, <MetaData: Do it! 점프 투 파이썬>, <MetaData: 직장인을 위한 실무 엑셀>, <MetaData: 맛있는 디자인 포토샵&일러스트레이터 CC 2017>, <MetaData: 블록체인 무엇인가?>, <MetaData: Do it! 안드로이드 앱 프로그래밍>, <MetaData: 고소한 DIAT 프리젠테이션 파워포인트 2010>, <MetaData: 맛있는 디자인 포토샵 CC 2018>, <MetaData: 두근두근 파이썬>, <MetaData: 밑바닥부터 시작하는 딥러닝>, <MetaData: 된다! 김메주의 유튜브 영상 만들기>, <MetaData: 직장인을 위한 실무 엑셀&파워포인트>, <MetaData: 모두의 파이썬>, <MetaData: 명품 HTML5+CSS3+Javascript 웹 프로그래밍>, <MetaData: C로 배우는 쉬운 자료구조>, <MetaData: NEW 컴퓨터와 인사하기 윈도우 7>, <MetaData: 이것이 자바다>, <MetaData: 4차산업혁명시대 온라인 생존마케팅>, <MetaData: 쉽게 배우는 데이터 통신과 컴퓨터 네트워크>, <MetaData: Do it! 쉽게 배우는 R 데이터 분석>]>"
      ]
     },
     "execution_count": 6,
     "metadata": {},
     "output_type": "execute_result"
    }
   ],
   "source": [
    "temp"
   ]
  },
  {
   "cell_type": "code",
   "execution_count": 7,
   "metadata": {},
   "outputs": [],
   "source": [
    "#to Yesterday\n",
    "for item in temp:\n",
    "    item.crawl_date = getYesterdayStart() + timezone.timedelta(hours=1, minutes=59, seconds=59)\n",
    "    item.save()"
   ]
  },
  {
   "cell_type": "code",
   "execution_count": 55,
   "metadata": {},
   "outputs": [
    {
     "data": {
      "text/plain": [
       "(40, {'book.MetaData': 40})"
      ]
     },
     "execution_count": 55,
     "metadata": {},
     "output_type": "execute_result"
    }
   ],
   "source": [
    "#delete today\n",
    "getBookList(getTodayStart(), getTodayEdge()).delete()"
   ]
  },
  {
   "cell_type": "code",
   "execution_count": 40,
   "metadata": {},
   "outputs": [
    {
     "name": "stdout",
     "output_type": "stream",
     "text": [
      "0\n",
      "0\n",
      "0\n",
      "0\n",
      "0\n",
      "0\n",
      "0\n",
      "0\n",
      "0\n",
      "0\n",
      "0\n",
      "0\n",
      "0\n",
      "0\n",
      "0\n",
      "0\n",
      "0\n",
      "0\n",
      "0\n",
      "0\n"
     ]
    }
   ],
   "source": [
    "#get rankRiseAndFall\n",
    "for item in getBookList(getTodayStart(), getTodayEdge()):\n",
    "    print(item.rankRiseAndFall)"
   ]
  },
  {
   "cell_type": "code",
   "execution_count": 44,
   "metadata": {},
   "outputs": [
    {
     "name": "stdout",
     "output_type": "stream",
     "text": [
      "윤성우의 열혈 C 프로그래밍\n",
      "setRRF is 0\n",
      "Do it! 점프 투 파이썬\n",
      "setRRF is 0\n",
      "직장인을 위한 실무 엑셀\n",
      "setRRF is 0\n",
      "맛있는 디자인 포토샵&일러스트레이터 CC 2017\n",
      "setRRF is 0\n",
      "블록체인 무엇인가?\n",
      "setRRF is 0\n",
      "Do it! 안드로이드 앱 프로그래밍\n",
      "setRRF is 0\n",
      "고소한 DIAT 프리젠테이션 파워포인트 2010\n",
      "setRRF is 0\n",
      "맛있는 디자인 포토샵 CC 2018\n",
      "setRRF is 0\n",
      "두근두근 파이썬\n",
      "setRRF is 0\n",
      "밑바닥부터 시작하는 딥러닝\n",
      "setRRF is 0\n",
      "된다! 김메주의 유튜브 영상 만들기\n",
      "setRRF is 0\n",
      "직장인을 위한 실무 엑셀&파워포인트\n",
      "setRRF is 0\n",
      "모두의 파이썬\n",
      "setRRF is 0\n",
      "명품 HTML5+CSS3+Javascript 웹 프로그래밍\n",
      "setRRF is 0\n",
      "C로 배우는 쉬운 자료구조\n",
      "setRRF is 0\n",
      "NEW 컴퓨터와 인사하기 윈도우 7\n",
      "setRRF is 0\n",
      "이것이 자바다\n",
      "setRRF is 0\n",
      "4차산업혁명시대 온라인 생존마케팅\n",
      "setRRF is 0\n",
      "쉽게 배우는 데이터 통신과 컴퓨터 네트워크\n",
      "setRRF is 0\n",
      "Do it! 쉽게 배우는 R 데이터 분석\n",
      "setRRF is 0\n"
     ]
    }
   ],
   "source": [
    "#set RRF\n",
    "setRankRiseAndFall(getBookList(getTodayStart(), getTodayEdge()), getBookList(getYesterdayStart(), getYesterdayEdge()))"
   ]
  },
  {
   "cell_type": "code",
   "execution_count": 30,
   "metadata": {},
   "outputs": [],
   "source": [
    "yes = getBookList(getYesterdayStart(), getYesterdayEdge())"
   ]
  },
  {
   "cell_type": "code",
   "execution_count": 31,
   "metadata": {},
   "outputs": [
    {
     "data": {
      "text/plain": [
       "<QuerySet [<MetaData: 윤성우의 열혈 C 프로그래밍>, <MetaData: Do it! 점프 투 파이썬>, <MetaData: 직장인을 위한 실무 엑셀>, <MetaData: 맛있는 디자인 포토샵&일러스트레이터 CC 2017>, <MetaData: 블록체인 무엇인가?>, <MetaData: Do it! 안드로이드 앱 프로그래밍>, <MetaData: 고소한 DIAT 프리젠테이션 파워포인트 2010>, <MetaData: 맛있는 디자인 포토샵 CC 2018>, <MetaData: 두근두근 파이썬>, <MetaData: 밑바닥부터 시작하는 딥러닝>, <MetaData: 된다! 김메주의 유튜브 영상 만들기>, <MetaData: 직장인을 위한 실무 엑셀&파워포인트>, <MetaData: 모두의 파이썬>, <MetaData: 명품 HTML5+CSS3+Javascript 웹 프로그래밍>, <MetaData: C로 배우는 쉬운 자료구조>, <MetaData: NEW 컴퓨터와 인사하기 윈도우 7>, <MetaData: 이것이 자바다>, <MetaData: 4차산업혁명시대 온라인 생존마케팅>, <MetaData: 쉽게 배우는 데이터 통신과 컴퓨터 네트워크>, <MetaData: Do it! 쉽게 배우는 R 데이터 분석>]>"
      ]
     },
     "execution_count": 31,
     "metadata": {},
     "output_type": "execute_result"
    }
   ],
   "source": [
    "yes"
   ]
  },
  {
   "cell_type": "code",
   "execution_count": 51,
   "metadata": {},
   "outputs": [
    {
     "name": "stdout",
     "output_type": "stream",
     "text": [
      "90 윤성우의 열혈 C 프로그래밍\n",
      "7 Do it! 점프 투 파이썬\n",
      "96 직장인을 위한 실무 엑셀\n",
      "84 맛있는 디자인 포토샵&일러스트레이터 CC 2017\n",
      "4 블록체인 무엇인가?\n",
      "18 Do it! 안드로이드 앱 프로그래밍\n",
      "26 고소한 DIAT 프리젠테이션 파워포인트 2010\n",
      "24 맛있는 디자인 포토샵 CC 2018\n",
      "56 두근두근 파이썬\n",
      "40 밑바닥부터 시작하는 딥러닝\n",
      "70 된다! 김메주의 유튜브 영상 만들기\n",
      "49 직장인을 위한 실무 엑셀&파워포인트\n",
      "66 모두의 파이썬\n",
      "11 명품 HTML5+CSS3+Javascript 웹 프로그래밍\n",
      "30 C로 배우는 쉬운 자료구조\n",
      "50 NEW 컴퓨터와 인사하기 윈도우 7\n",
      "22 이것이 자바다\n",
      "48 4차산업혁명시대 온라인 생존마케팅\n",
      "95 쉽게 배우는 데이터 통신과 컴퓨터 네트워크\n",
      "91 Do it! 쉽게 배우는 R 데이터 분석\n"
     ]
    }
   ],
   "source": [
    "# set yesterday book random\n",
    "yes = getBookList(getYesterdayStart(), getYesterdayEdge())\n",
    "for item in yes:\n",
    "    item.rank = random.randrange(1, 100)\n",
    "    item.save()\n",
    "    \n",
    "for item in yes:\n",
    "    print(str(item.rank) + \" \" + str(item.book.title))"
   ]
  },
  {
   "cell_type": "code",
   "execution_count": 57,
   "metadata": {},
   "outputs": [
    {
     "name": "stdout",
     "output_type": "stream",
     "text": [
      "국내도서 > IT 모바일 > 프로그래밍 언어 > C\n",
      "국내도서 > IT 모바일 > 프로그래밍 언어 > 파이썬\n",
      "국내도서 > IT 모바일 > 오피스 활용 > MS Excel(엑셀)\n",
      "국내도서 > IT 모바일 > 그래픽/디자인/멀티미디어 > 일러스트레이터<br/>국내도서 > IT 모바일 > 그래픽/디자인/멀티미디어 > 포토샵\n",
      "국내도서 > IT 모바일 > 네트워크/해킹/보안 > 보안/해킹<br/>국내도서 > 경제 경영 > 마케팅/세일즈 > 트렌드/미래예측<br/>국내도서 > 경제 경영 > 경제 > 각국 경제/경제사/전망 > 세계경제\n",
      "국내도서 > IT 모바일 > 모바일 프로그래밍 > 안드로이드폰\n",
      "국내도서 > IT 모바일 > 오피스 활용 > 프레젠테이션 > 파워포인트\n",
      "국내도서 > IT 모바일 > 그래픽/디자인/멀티미디어 > 포토샵\n",
      "국내도서 > IT 모바일 > 프로그래밍 언어 > 파이썬\n",
      "국내도서 > IT 모바일 > 프로그래밍 언어 > 파이썬<br/>국내도서 > IT 모바일 > OS/데이터베이스 > 클라우드/빅데이터<br/>국내도서 > IT 모바일 > 컴퓨터 공학 > 자료구조/알고리즘<br/>국내도서 > IT 모바일 > 컴퓨터 공학 > 인공지능<br/>국내도서 > 네티즌 선정 올해의 책 > 2017년 올해의 책 후보도서\n",
      "국내도서 > IT 모바일 > 웹사이트 > 블로그/홈페이지 만들기<br/>국내도서 > IT 모바일 > 모바일/태블릿/SNS > 유투브<br/>국내도서 > IT 모바일 > 인터넷 비즈니스 > 인터넷 마케팅\n",
      "국내도서 > IT 모바일 > 오피스 활용 > MS Excel(엑셀)<br/>국내도서 > IT 모바일 > 오피스 활용 > 프레젠테이션 > 파워포인트\n",
      "국내도서 > IT 모바일 > 컴퓨터 입문/활용 > 어린이 컴퓨터<br/>국내도서 > IT 모바일 > 프로그래밍 언어 > 파이썬<br/>국내도서 > 어린이 > 초등학습 > 컴퓨터/IT/코딩<br/>국내도서 > 어린이 > 5-6학년 > 5-6학년 학습 > 5-6학년 컴퓨터\n",
      "국내도서 > IT 모바일 > 웹사이트 > HTML/JavaScript/CSS/jQuery\n",
      "국내도서 > IT 모바일 > 컴퓨터 공학 > 자료구조/알고리즘\n",
      "국내도서 > IT 모바일 > 컴퓨터 입문/활용 > 어린이 컴퓨터\n",
      "국내도서 > IT 모바일 > 프로그래밍 언어 > 자바<br/>국내도서 > 네티즌 선정 올해의 책 > 2015년 올해의 책 후보도서\n",
      "국내도서 > 경제 경영 > 경영 > 창업/장사<br/>국내도서 > 경제 경영 > 마케팅/세일즈 > 마케팅/브랜드<br/>국내도서 > 경제 경영 > 마케팅/세일즈 > 인터넷 마케팅<br/>국내도서 > 경제 경영 > 마케팅/세일즈 > 트렌드/미래예측<br/>국내도서 > 경제 경영 > 투자/재테크 > 창업/장사<br/>국내도서 > 경제 경영 > 인터넷비즈니스 > 인터넷 마케팅<br/>국내도서 > IT 모바일 > 인터넷 비즈니스 > 쇼핑몰/창업\n",
      "국내도서 > IT 모바일 > 네트워크/해킹/보안 > 네트워크 일반\n",
      "국내도서 > IT 모바일 > 프로그래밍 언어 > 프로그래밍 언어 기타<br/>국내도서 > IT 모바일 > OS/데이터베이스 > 클라우드/빅데이터\n",
      "국내도서 > IT 모바일 > 모바일 프로그래밍<br/>국내도서 > IT 모바일 > 웹사이트 > HTML/JavaScript/CSS/jQuery<br/>국내도서 > IT 모바일 > 웹사이트 > 웹디자인\n",
      "국내도서 > IT 모바일 > 웹사이트 > 블로그/홈페이지 만들기<br/>국내도서 > IT 모바일 > 인터넷 비즈니스 > 쇼핑몰/창업<br/>국내도서 > IT 모바일 > 인터넷 비즈니스 > 인터넷 마케팅\n",
      "국내도서 > IT 모바일 > 프로그래밍 언어 > C++\n",
      "국내도서 > IT 모바일 > 그래픽/디자인/멀티미디어 > 프리미어\n",
      "국내도서 > IT 모바일 > 컴퓨터 공학 > 컴퓨터 교육\n",
      "국내도서 > IT 모바일 > 네트워크/해킹/보안 > 네트워크 일반<br/>국내도서 > IT 모바일 > 컴퓨터 공학 > 네트워크/데이터 통신\n",
      "국내도서 > IT 모바일 > 오피스 활용 > MS PowerPoint(파워포인트)<br/>국내도서 > IT 모바일 > 오피스 활용 > 프레젠테이션 > 파워포인트\n",
      "국내도서 > IT 모바일 > 게임 > 게임 기획<br/>국내도서 > IT 모바일 > 게임 > 게임 개발\n",
      "국내도서 > IT 모바일 > 프로그래밍 언어 > JavaScript/CGI\n",
      "국내도서 > IT 모바일 > 컴퓨터 공학 > 소프트웨어 공학\n",
      "국내도서 > IT 모바일 > 모바일 프로그래밍<br/>국내도서 > IT 모바일 > 모바일 프로그래밍 > 안드로이드폰\n",
      "국내도서 > IT 모바일 > 프로그래밍 언어 > 프로그래밍 교육<br/>국내도서 > IT 모바일 > 프로그래밍 언어 > 프로그래밍 언어 기타\n",
      "국내도서 > IT 모바일 > 네트워크/해킹/보안 > 보안/해킹\n",
      "국내도서 > IT 모바일 > 프로그래밍 언어 > 자바\n",
      "국내도서 > IT 모바일 > 프로그래밍 언어 > C\n",
      "국내도서 > IT 모바일 > 프로그래밍 언어 > 자바\n",
      "국내도서 > IT 모바일 > 컴퓨터 공학 > 마이크로 프로세서\n",
      "국내도서 > IT 모바일 > 프로그래밍 언어 > 파이썬\n",
      "국내도서 > IT 모바일 > 네트워크/해킹/보안 > 보안/해킹\n",
      "국내도서 > IT 모바일 > 프로그래밍 언어 > 파이썬\n"
     ]
    }
   ],
   "source": [
    "# category\n",
    "today = getBookList(getTodayStart(), getTodayEdge())\n",
    "for item in today:\n",
    "    print(item.book.category)"
   ]
  },
  {
   "cell_type": "code",
   "execution_count": null,
   "metadata": {},
   "outputs": [],
   "source": []
  }
 ],
 "metadata": {
  "kernelspec": {
   "display_name": "Django Shell-Plus",
   "language": "python",
   "name": "django_extensions"
  },
  "language_info": {
   "codemirror_mode": {
    "name": "ipython",
    "version": 3
   },
   "file_extension": ".py",
   "mimetype": "text/x-python",
   "name": "python",
   "nbconvert_exporter": "python",
   "pygments_lexer": "ipython3",
   "version": "3.6.3"
  }
 },
 "nbformat": 4,
 "nbformat_minor": 2
}
